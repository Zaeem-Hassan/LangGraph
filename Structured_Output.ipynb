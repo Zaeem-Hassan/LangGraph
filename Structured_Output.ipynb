{
  "cells": [
    {
      "cell_type": "code",
      "execution_count": null,
      "metadata": {
        "id": "_WFibsPhjsG8"
      },
      "outputs": [],
      "source": [
        "\n",
        "from typing import Optional, Literal\n",
        "from pydantic import BaseModel, Field\n",
        "from langchain.output_parsers import StructuredOutputParser,ResponseSchema\n",
        "from langchain_core.prompts import PromptTemplate\n",
        "from langchain.chains import LLMChain"
      ]
    },
    {
      "cell_type": "code",
      "execution_count": 21,
      "metadata": {
        "id": "2WiTQESUmyRS"
      },
      "outputs": [],
      "source": [
        "prompt = PromptTemplate(\n",
        "    input_variables=[\"user_input\"],  # only user_input will be passed dynamically\n",
        "    partial_variables={\"format_instructions\": parser.get_format_instructions()},\n",
        "    template=\"\"\"\n",
        "You are an expert writing evaluator. Your task is to critically evaluate the following essay:\n",
        "\n",
        "Essay:\n",
        "\\\"\\\"\\\"\n",
        "{user_input}\n",
        "\\\"\\\"\\\"\n",
        "\n",
        "Evaluate the essay across the following dimensions:\n",
        "\n",
        "1. **Content & Ideas**: Are the ideas clear, original, and well-developed?\n",
        "2. **Organization**: Is the structure logical, with a strong introduction, body, and conclusion?\n",
        "3. **Language & Style**: Is the language formal, clear, and appropriate for the topic?\n",
        "4. **Grammar & Mechanics**: Are there any grammatical, punctuation, or spelling errors?\n",
        "\n",
        "\n",
        "Give rating and feeback in the following format:\n",
        "{format_instructions}\n",
        "\"\"\"\n",
        ")\n"
      ]
    },
    {
      "cell_type": "code",
      "execution_count": null,
      "metadata": {
        "id": "iTm1IkUfj2OQ"
      },
      "outputs": [],
      "source": [
        "\"model we used = mistralai/Mixtral-8x7B-Instruct-v0.1 \""
      ]
    },
    {
      "cell_type": "code",
      "execution_count": 13,
      "metadata": {
        "id": "3ZnI-lxVm9LC"
      },
      "outputs": [],
      "source": [
        "response_schemas = [\n",
        "    ResponseSchema(name=\"Rate\", description=\"Rate the essay in the scale of 1 to 10\"),\n",
        "    ResponseSchema(name=\"feedback\", description=\"Give ur feedback as a teacher for the essay\")\n",
        "]"
      ]
    },
    {
      "cell_type": "code",
      "execution_count": 14,
      "metadata": {
        "colab": {
          "base_uri": "https://localhost:8080/"
        },
        "id": "mc-4Ku__kY1_",
        "outputId": "65fced25-cc34-4760-eb5f-6c2ae015b05b"
      },
      "outputs": [
        {
          "name": "stdout",
          "output_type": "stream",
          "text": [
            "The output should be a markdown code snippet formatted in the following schema, including the leading and trailing \"```json\" and \"```\":\n",
            "\n",
            "```json\n",
            "{\n",
            "\t\"Rate\": string  // Rate the essay in the scale of 1 to 10\n",
            "\t\"feedback\": string  // Give ur feedback as a teacher for the essay\n",
            "}\n",
            "```\n"
          ]
        }
      ],
      "source": [
        "parser = StructuredOutputParser.from_response_schemas(response_schemas)\n",
        "format_instructions = parser.get_format_instructions()\n",
        "\n",
        "print(format_instructions)"
      ]
    },
    {
      "cell_type": "code",
      "execution_count": 22,
      "metadata": {
        "id": "5xvvzna1lroZ"
      },
      "outputs": [],
      "source": [
        "chain = prompt | model | parser"
      ]
    },
    {
      "cell_type": "code",
      "execution_count": 24,
      "metadata": {
        "colab": {
          "base_uri": "https://localhost:8080/"
        },
        "id": "BMF3TER3rcuT",
        "outputId": "e3155df8-c1f8-4f46-ff1e-4c179d006350"
      },
      "outputs": [
        {
          "data": {
            "text/plain": [
              "{'Rate': '7',\n",
              " 'feedback': \"The essay presents a clear and well-understood view of the advantages and disadvantages of technology. The ideas are straightforward and concise, but lack originality and in-depth analysis.\\n\\nThe organization of the essay is logical and coherent. The introduction sets the context and presents the main ideas, the body develops the topic further, and the conclusion summarizes the main points.\\n\\nThe language is formal and clear, suitable for the topic. However, there is room for improvement in the style, as the essay lacks variety and engagement.\\n\\nThere are a few minor grammatical, punctuation, and spelling errors. It's recommended to proofread the text carefully to ensure correctness and clarity.\"}"
            ]
          },
          "execution_count": 24,
          "metadata": {},
          "output_type": "execute_result"
        }
      ],
      "source": [
        "essay_text = \"\"\"\n",
        "Technology has improved communication, education, and healthcare. However, excessive screen time can harm mental health.\n",
        "It’s important to balance usage and ensure children are educated about responsible tech use.\n",
        "\"\"\"\n",
        "\n",
        "result = chain.invoke({\"user_input\": essay_text})\n",
        "result"
      ]
    },
    {
      "cell_type": "code",
      "execution_count": 25,
      "metadata": {
        "colab": {
          "base_uri": "https://localhost:8080/",
          "height": 35
        },
        "id": "CnfRsVh7r1Ng",
        "outputId": "f32917a6-5400-448e-f55c-47e5055dcda5"
      },
      "outputs": [
        {
          "data": {
            "application/vnd.google.colaboratory.intrinsic+json": {
              "type": "string"
            },
            "text/plain": [
              "'7'"
            ]
          },
          "execution_count": 25,
          "metadata": {},
          "output_type": "execute_result"
        }
      ],
      "source": [
        "result['Rate']"
      ]
    },
    {
      "cell_type": "code",
      "execution_count": null,
      "metadata": {
        "id": "oPv2cesgxnWQ"
      },
      "outputs": [],
      "source": []
    }
  ],
  "metadata": {
    "colab": {
      "provenance": []
    },
    "kernelspec": {
      "display_name": "Python 3",
      "name": "python3"
    },
    "language_info": {
      "name": "python"
    }
  },
  "nbformat": 4,
  "nbformat_minor": 0
}
